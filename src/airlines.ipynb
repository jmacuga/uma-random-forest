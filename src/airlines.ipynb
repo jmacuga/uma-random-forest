{
 "cells": [
  {
   "cell_type": "code",
   "execution_count": 1,
   "metadata": {},
   "outputs": [],
   "source": [
    "from datasets.airline_cs import AirlineCSDataset\n",
    "from random_forest import RandomForestClassifier, TournamentRandomForestClassifier\n",
    "from sklearn.metrics import (\n",
    "    confusion_matrix,\n",
    "    accuracy_score,\n",
    "    ConfusionMatrixDisplay,\n",
    "    f1_score,\n",
    "    precision_score,\n",
    "    recall_score,\n",
    ")\n",
    "from tree import DecisionTreeClassifier, RandomizedDecisionTreeClassifier, TournamentDecisionTreeClassifier, RandomizedTournamentDecisionTreeClassifier\n",
    "import math, time\n",
    "import seaborn as sns\n",
    "from utils.experiments import grid_search"
   ]
  },
  {
   "cell_type": "code",
   "execution_count": 2,
   "metadata": {},
   "outputs": [],
   "source": [
    "path = \"../data/airline/Airline_customer_satisfaction.csv\"\n",
    "dataset = AirlineCSDataset(path=path)"
   ]
  },
  {
   "cell_type": "code",
   "execution_count": 3,
   "metadata": {},
   "outputs": [
    {
     "data": {
      "text/plain": [
       "satisfaction\n",
       "satisfied       71087\n",
       "dissatisfied    58793\n",
       "Name: count, dtype: int64"
      ]
     },
     "execution_count": 3,
     "metadata": {},
     "output_type": "execute_result"
    }
   ],
   "source": [
    "dataset.labels.value_counts()"
   ]
  },
  {
   "cell_type": "code",
   "execution_count": 4,
   "metadata": {},
   "outputs": [
    {
     "name": "stdout",
     "output_type": "stream",
     "text": [
      "<class 'pandas.core.frame.DataFrame'>\n",
      "RangeIndex: 129880 entries, 0 to 129879\n",
      "Data columns (total 21 columns):\n",
      " #   Column                             Non-Null Count   Dtype  \n",
      "---  ------                             --------------   -----  \n",
      " 0   Customer Type                      129880 non-null  object \n",
      " 1   Age                                129880 non-null  int64  \n",
      " 2   Type of Travel                     129880 non-null  object \n",
      " 3   Class                              129880 non-null  object \n",
      " 4   Flight Distance                    129880 non-null  int64  \n",
      " 5   Seat comfort                       129880 non-null  int64  \n",
      " 6   Departure/Arrival time convenient  129880 non-null  int64  \n",
      " 7   Food and drink                     129880 non-null  int64  \n",
      " 8   Gate location                      129880 non-null  int64  \n",
      " 9   Inflight wifi service              129880 non-null  int64  \n",
      " 10  Inflight entertainment             129880 non-null  int64  \n",
      " 11  Online support                     129880 non-null  int64  \n",
      " 12  Ease of Online booking             129880 non-null  int64  \n",
      " 13  On-board service                   129880 non-null  int64  \n",
      " 14  Leg room service                   129880 non-null  int64  \n",
      " 15  Baggage handling                   129880 non-null  int64  \n",
      " 16  Checkin service                    129880 non-null  int64  \n",
      " 17  Cleanliness                        129880 non-null  int64  \n",
      " 18  Online boarding                    129880 non-null  int64  \n",
      " 19  Departure Delay in Minutes         129880 non-null  int64  \n",
      " 20  Arrival Delay in Minutes           129487 non-null  float64\n",
      "dtypes: float64(1), int64(17), object(3)\n",
      "memory usage: 20.8+ MB\n"
     ]
    }
   ],
   "source": [
    "dataset.data.info()"
   ]
  },
  {
   "cell_type": "code",
   "execution_count": 5,
   "metadata": {},
   "outputs": [],
   "source": [
    "dataset.clean()"
   ]
  },
  {
   "cell_type": "code",
   "execution_count": 6,
   "metadata": {},
   "outputs": [],
   "source": [
    "X_train, X_val, y_train, y_val = dataset.split(test_size=0.4, random_state=42)"
   ]
  },
  {
   "cell_type": "markdown",
   "metadata": {},
   "source": [
    "## DecisionTree"
   ]
  },
  {
   "cell_type": "code",
   "execution_count": 10,
   "metadata": {},
   "outputs": [],
   "source": [
    "params_matrix = {\n",
    "    \"max_depth\": [\n",
    "        6, 7\n",
    "    ],\n",
    "    \"max_split_values\" : [1000]\n",
    "}"
   ]
  },
  {
   "cell_type": "code",
   "execution_count": 11,
   "metadata": {},
   "outputs": [
    {
     "name": "stderr",
     "output_type": "stream",
     "text": [
      "  0%|          | 0/2 [00:00<?, ?it/s]INFO:root:DecisionTreeClassifier(max_depth=3) created\n",
      "INFO:root:Node(split_feature=None, split_val=None, depth=3) created\n",
      "INFO:root:Node(split_feature=None, split_val=None, depth=3) created\n",
      "INFO:root:Node(split_feature=3, split_val=0.5, depth=2) created\n",
      "INFO:root:Node(split_feature=None, split_val=None, depth=3) created\n",
      "INFO:root:Node(split_feature=None, split_val=None, depth=3) created\n",
      "INFO:root:Node(split_feature=10, split_val=4.5, depth=2) created\n",
      "INFO:root:Node(split_feature=25, split_val=0.5, depth=1) created\n",
      "INFO:root:Node(split_feature=None, split_val=None, depth=3) created\n",
      "INFO:root:Node(split_feature=None, split_val=None, depth=3) created\n",
      "INFO:root:Node(split_feature=25, split_val=0.5, depth=2) created\n",
      "INFO:root:Node(split_feature=None, split_val=None, depth=3) created\n",
      "INFO:root:Node(split_feature=None, split_val=None, depth=3) created\n",
      "INFO:root:Node(split_feature=24, split_val=0.5, depth=2) created\n",
      "INFO:root:Node(split_feature=8, split_val=3.5, depth=1) created\n",
      "INFO:root:Node(split_feature=6, split_val=3.5, depth=0) created\n",
      " 50%|█████     | 1/2 [00:41<00:41, 41.95s/it]INFO:root:DecisionTreeClassifier(max_depth=5) created\n",
      "INFO:root:Node(split_feature=None, split_val=None, depth=5) created\n",
      "INFO:root:Node(split_feature=None, split_val=None, depth=5) created\n",
      "INFO:root:Node(split_feature=22, split_val=0.5, depth=4) created\n",
      "INFO:root:Node(split_feature=None, split_val=None, depth=4) created\n",
      "INFO:root:Node(split_feature=21, split_val=0.5, depth=3) created\n",
      "INFO:root:Node(split_feature=None, split_val=None, depth=5) created\n",
      "INFO:root:Node(split_feature=None, split_val=None, depth=5) created\n",
      "INFO:root:Node(split_feature=17, split_val=0.5, depth=4) created\n",
      "INFO:root:Node(split_feature=None, split_val=None, depth=5) created\n",
      "INFO:root:Node(split_feature=None, split_val=None, depth=5) created\n",
      "INFO:root:Node(split_feature=4, split_val=3.5, depth=4) created\n",
      "INFO:root:Node(split_feature=24, split_val=0.5, depth=3) created\n",
      "INFO:root:Node(split_feature=3, split_val=0.5, depth=2) created\n",
      "INFO:root:Node(split_feature=None, split_val=None, depth=5) created\n",
      "INFO:root:Node(split_feature=None, split_val=None, depth=5) created\n",
      "INFO:root:Node(split_feature=13, split_val=2.5, depth=4) created\n",
      "INFO:root:Node(split_feature=None, split_val=None, depth=5) created\n",
      "INFO:root:Node(split_feature=None, split_val=None, depth=5) created\n",
      "INFO:root:Node(split_feature=19, split_val=0.5, depth=4) created\n",
      "INFO:root:Node(split_feature=8, split_val=4.5, depth=3) created\n",
      "INFO:root:Node(split_feature=None, split_val=None, depth=3) created\n",
      "INFO:root:Node(split_feature=10, split_val=4.5, depth=2) created\n",
      "INFO:root:Node(split_feature=25, split_val=0.5, depth=1) created\n",
      "INFO:root:Node(split_feature=None, split_val=None, depth=5) created\n",
      "INFO:root:Node(split_feature=None, split_val=None, depth=5) created\n",
      "INFO:root:Node(split_feature=24, split_val=0.5, depth=4) created\n",
      "INFO:root:Node(split_feature=None, split_val=None, depth=5) created\n",
      "INFO:root:Node(split_feature=None, split_val=None, depth=5) created\n",
      "INFO:root:Node(split_feature=7, split_val=3.5, depth=4) created\n",
      "INFO:root:Node(split_feature=14, split_val=2.5, depth=3) created\n",
      "INFO:root:Node(split_feature=None, split_val=None, depth=4) created\n",
      "INFO:root:Node(split_feature=None, split_val=None, depth=5) created\n",
      "INFO:root:Node(split_feature=None, split_val=None, depth=5) created\n",
      "INFO:root:Node(split_feature=5, split_val=4.5, depth=4) created\n",
      "INFO:root:Node(split_feature=16, split_val=192.0, depth=3) created\n",
      "INFO:root:Node(split_feature=25, split_val=0.5, depth=2) created\n",
      "INFO:root:Node(split_feature=None, split_val=None, depth=5) created\n",
      "INFO:root:Node(split_feature=None, split_val=None, depth=5) created\n",
      "INFO:root:Node(split_feature=5, split_val=3.5, depth=4) created\n",
      "INFO:root:Node(split_feature=None, split_val=None, depth=5) created\n",
      "INFO:root:Node(split_feature=None, split_val=None, depth=5) created\n",
      "INFO:root:Node(split_feature=16, split_val=127.5, depth=4) created\n",
      "INFO:root:Node(split_feature=10, split_val=3.5, depth=3) created\n",
      "INFO:root:Node(split_feature=None, split_val=None, depth=5) created\n",
      "INFO:root:Node(split_feature=None, split_val=None, depth=5) created\n",
      "INFO:root:Node(split_feature=3, split_val=3.5, depth=4) created\n",
      "INFO:root:Node(split_feature=None, split_val=None, depth=5) created\n",
      "INFO:root:Node(split_feature=None, split_val=None, depth=5) created\n",
      "INFO:root:Node(split_feature=6, split_val=4.5, depth=4) created\n",
      "INFO:root:Node(split_feature=4, split_val=3.5, depth=3) created\n",
      "INFO:root:Node(split_feature=24, split_val=0.5, depth=2) created\n",
      "INFO:root:Node(split_feature=8, split_val=3.5, depth=1) created\n",
      "INFO:root:Node(split_feature=6, split_val=3.5, depth=0) created\n",
      "100%|██████████| 2/2 [01:47<00:00, 53.80s/it]"
     ]
    },
    {
     "name": "stdout",
     "output_type": "stream",
     "text": [
      "Execution time: 107.61101412773132\n",
      "Best params: {'max_depth': 5, 'max_split_values': 1000}\n",
      "Best score: 0.8735948567908839\n",
      "All rEsults: [{'max_depth': 3, 'max_split_values': 1000, 'accuracy': 0.8290537419156144, 'precision': 0.8512662790138882, 'recall': 0.7537872340425532, 'f1': 0.7995666794556411}, {'max_depth': 5, 'max_split_values': 1000, 'accuracy': 0.8735948567908839, 'precision': 0.8381865388456161, 'recall': 0.892936170212766, 'f1': 0.864695580508911}]\n"
     ]
    },
    {
     "name": "stderr",
     "output_type": "stream",
     "text": [
      "\n"
     ]
    }
   ],
   "source": [
    "n_calls = 1\n",
    "time_start = time.time()\n",
    "best_params, score, all_results = grid_search(\n",
    "    params_matrix, DecisionTreeClassifier, X_train, X_val, y_train, y_val, n_calls, path=\"../out/airline_cs/decision_tree.csv\"\n",
    ")\n",
    "print(f\"Execution time: {time.time() - time_start}\")\n",
    "print(f\"Best params: {best_params}\")\n",
    "print(f\"Best score: {score}\")\n",
    "print(f\"All rEsults: {all_results}\")"
   ]
  },
  {
   "cell_type": "markdown",
   "metadata": {},
   "source": [
    "## Random Forest"
   ]
  },
  {
   "cell_type": "code",
   "execution_count": 7,
   "metadata": {},
   "outputs": [],
   "source": [
    "n_features = round(math.sqrt(X_train.shape[1]))"
   ]
  },
  {
   "cell_type": "code",
   "execution_count": 8,
   "metadata": {},
   "outputs": [],
   "source": [
    "params_matrix = {\n",
    "    \"n_trees\": [100, 200],\n",
    "    \"max_depth\": [\n",
    "        3, 5\n",
    "    ],\n",
    "    \"max_split_values\" : [1000],\n",
    "    \"max_features\": [n_features],\n",
    "}"
   ]
  },
  {
   "cell_type": "code",
   "execution_count": 9,
   "metadata": {},
   "outputs": [
    {
     "name": "stderr",
     "output_type": "stream",
     "text": [
      "  0%|          | 0/4 [00:00<?, ?it/s]INFO:root:DecisionTreeClassifier(max_depth=3) created\n",
      "  0%|          | 0/4 [00:22<?, ?it/s]\n"
     ]
    },
    {
     "ename": "KeyboardInterrupt",
     "evalue": "",
     "output_type": "error",
     "traceback": [
      "\u001b[0;31m---------------------------------------------------------------------------\u001b[0m",
      "\u001b[0;31mKeyboardInterrupt\u001b[0m                         Traceback (most recent call last)",
      "Cell \u001b[0;32mIn[9], line 3\u001b[0m\n\u001b[1;32m      1\u001b[0m n_calls \u001b[38;5;241m=\u001b[39m \u001b[38;5;241m8\u001b[39m\n\u001b[1;32m      2\u001b[0m time_start \u001b[38;5;241m=\u001b[39m time\u001b[38;5;241m.\u001b[39mtime()\n\u001b[0;32m----> 3\u001b[0m best_params, score, all_results \u001b[38;5;241m=\u001b[39m \u001b[43mgrid_search\u001b[49m\u001b[43m(\u001b[49m\n\u001b[1;32m      4\u001b[0m \u001b[43m    \u001b[49m\u001b[43mparams_matrix\u001b[49m\u001b[43m,\u001b[49m\u001b[43m \u001b[49m\u001b[43mRandomForestClassifier\u001b[49m\u001b[43m,\u001b[49m\u001b[43m \u001b[49m\u001b[43mX_train\u001b[49m\u001b[43m,\u001b[49m\u001b[43m \u001b[49m\u001b[43mX_val\u001b[49m\u001b[43m,\u001b[49m\u001b[43m \u001b[49m\u001b[43my_train\u001b[49m\u001b[43m,\u001b[49m\u001b[43m \u001b[49m\u001b[43my_val\u001b[49m\u001b[43m,\u001b[49m\u001b[43m \u001b[49m\u001b[43mn_calls\u001b[49m\n\u001b[1;32m      5\u001b[0m \u001b[43m)\u001b[49m\n\u001b[1;32m      6\u001b[0m \u001b[38;5;28mprint\u001b[39m(\u001b[38;5;124mf\u001b[39m\u001b[38;5;124m\"\u001b[39m\u001b[38;5;124mExecution time: \u001b[39m\u001b[38;5;132;01m{\u001b[39;00mtime\u001b[38;5;241m.\u001b[39mtime()\u001b[38;5;250m \u001b[39m\u001b[38;5;241m-\u001b[39m\u001b[38;5;250m \u001b[39mtime_start\u001b[38;5;132;01m}\u001b[39;00m\u001b[38;5;124m\"\u001b[39m)\n\u001b[1;32m      7\u001b[0m \u001b[38;5;28mprint\u001b[39m(\u001b[38;5;124mf\u001b[39m\u001b[38;5;124m\"\u001b[39m\u001b[38;5;124mBest params: \u001b[39m\u001b[38;5;132;01m{\u001b[39;00mbest_params\u001b[38;5;132;01m}\u001b[39;00m\u001b[38;5;124m\"\u001b[39m)\n",
      "File \u001b[0;32m~/uma-random-forest/src/utils/experiments.py:55\u001b[0m, in \u001b[0;36mgrid_search\u001b[0;34m(param_grid, model_class, X_train, X_test, y_train, y_test, num_calls)\u001b[0m\n\u001b[1;32m     53\u001b[0m \u001b[38;5;28;01mfor\u001b[39;00m i \u001b[38;5;129;01min\u001b[39;00m \u001b[38;5;28mrange\u001b[39m(num_calls):\n\u001b[1;32m     54\u001b[0m     model \u001b[38;5;241m=\u001b[39m model_class(\u001b[38;5;241m*\u001b[39m\u001b[38;5;241m*\u001b[39mparam_dict)\n\u001b[0;32m---> 55\u001b[0m     \u001b[43mmodel\u001b[49m\u001b[38;5;241;43m.\u001b[39;49m\u001b[43mfit\u001b[49m\u001b[43m(\u001b[49m\u001b[43mX_train\u001b[49m\u001b[43m,\u001b[49m\u001b[43m \u001b[49m\u001b[43my_train\u001b[49m\u001b[43m)\u001b[49m\n\u001b[1;32m     56\u001b[0m     y_pred \u001b[38;5;241m=\u001b[39m np\u001b[38;5;241m.\u001b[39marray([model\u001b[38;5;241m.\u001b[39mpredict(x) \u001b[38;5;28;01mfor\u001b[39;00m x \u001b[38;5;129;01min\u001b[39;00m X_test])\n\u001b[1;32m     58\u001b[0m     accuracy \u001b[38;5;241m=\u001b[39m accuracy_score(y_test, y_pred)\n",
      "File \u001b[0;32m~/uma-random-forest/src/random_forest.py:47\u001b[0m, in \u001b[0;36mRandomForestClassifier.fit\u001b[0;34m(self, X, y)\u001b[0m\n\u001b[1;32m     45\u001b[0m \u001b[38;5;28;01mfor\u001b[39;00m _ \u001b[38;5;129;01min\u001b[39;00m \u001b[38;5;28mrange\u001b[39m(\u001b[38;5;28mself\u001b[39m\u001b[38;5;241m.\u001b[39mn_trees):\n\u001b[1;32m     46\u001b[0m     bootstrap_X, bootstrap_y \u001b[38;5;241m=\u001b[39m \u001b[38;5;28mself\u001b[39m\u001b[38;5;241m.\u001b[39m_bootstrap(X, y)\n\u001b[0;32m---> 47\u001b[0m     \u001b[38;5;28;43mself\u001b[39;49m\u001b[38;5;241;43m.\u001b[39;49m\u001b[43m_build_tree\u001b[49m\u001b[43m(\u001b[49m\u001b[43mbootstrap_X\u001b[49m\u001b[43m,\u001b[49m\u001b[43m \u001b[49m\u001b[43mbootstrap_y\u001b[49m\u001b[43m,\u001b[49m\u001b[43m \u001b[49m\u001b[38;5;28;43mself\u001b[39;49m\u001b[38;5;241;43m.\u001b[39;49m\u001b[43mmax_depth\u001b[49m\u001b[43m)\u001b[49m\n",
      "File \u001b[0;32m~/uma-random-forest/src/random_forest.py:91\u001b[0m, in \u001b[0;36mRandomForestClassifier._build_tree\u001b[0;34m(self, X, y, depth)\u001b[0m\n\u001b[1;32m     76\u001b[0m \u001b[38;5;250m\u001b[39m\u001b[38;5;124;03m\"\"\"\u001b[39;00m\n\u001b[1;32m     77\u001b[0m \u001b[38;5;124;03mBuild a tree from the training set (X, y).\u001b[39;00m\n\u001b[1;32m     78\u001b[0m \n\u001b[0;32m   (...)\u001b[0m\n\u001b[1;32m     88\u001b[0m \u001b[38;5;124;03m    The current depth of the tree.\u001b[39;00m\n\u001b[1;32m     89\u001b[0m \u001b[38;5;124;03m\"\"\"\u001b[39;00m\n\u001b[1;32m     90\u001b[0m dc \u001b[38;5;241m=\u001b[39m RandomizedDecisionTreeClassifier(depth, max_features\u001b[38;5;241m=\u001b[39m\u001b[38;5;28mself\u001b[39m\u001b[38;5;241m.\u001b[39mmax_features)\n\u001b[0;32m---> 91\u001b[0m \u001b[43mdc\u001b[49m\u001b[38;5;241;43m.\u001b[39;49m\u001b[43mfit\u001b[49m\u001b[43m(\u001b[49m\u001b[43mX\u001b[49m\u001b[43m,\u001b[49m\u001b[43m \u001b[49m\u001b[43my\u001b[49m\u001b[43m)\u001b[49m\n\u001b[1;32m     92\u001b[0m \u001b[38;5;28mself\u001b[39m\u001b[38;5;241m.\u001b[39mtrees\u001b[38;5;241m.\u001b[39mappend(dc)\n",
      "File \u001b[0;32m~/uma-random-forest/src/tree.py:106\u001b[0m, in \u001b[0;36mDecisionTreeClassifier.fit\u001b[0;34m(self, X, y)\u001b[0m\n\u001b[1;32m     94\u001b[0m \u001b[38;5;28;01mdef\u001b[39;00m \u001b[38;5;21mfit\u001b[39m(\u001b[38;5;28mself\u001b[39m, X: np\u001b[38;5;241m.\u001b[39marray, y: np\u001b[38;5;241m.\u001b[39marray) \u001b[38;5;241m-\u001b[39m\u001b[38;5;241m>\u001b[39m \u001b[38;5;28;01mNone\u001b[39;00m:\n\u001b[1;32m     95\u001b[0m \u001b[38;5;250m    \u001b[39m\u001b[38;5;124;03m\"\"\"Build a tree from the training set (X, y).\u001b[39;00m\n\u001b[1;32m     96\u001b[0m \n\u001b[1;32m     97\u001b[0m \u001b[38;5;124;03m    Parameters\u001b[39;00m\n\u001b[0;32m   (...)\u001b[0m\n\u001b[1;32m    104\u001b[0m \n\u001b[1;32m    105\u001b[0m \u001b[38;5;124;03m    \"\"\"\u001b[39;00m\n\u001b[0;32m--> 106\u001b[0m     \u001b[38;5;28mself\u001b[39m\u001b[38;5;241m.\u001b[39mtree \u001b[38;5;241m=\u001b[39m \u001b[38;5;28;43mself\u001b[39;49m\u001b[38;5;241;43m.\u001b[39;49m\u001b[43mbuild_node\u001b[49m\u001b[43m(\u001b[49m\u001b[43mX\u001b[49m\u001b[43m,\u001b[49m\u001b[43m \u001b[49m\u001b[43my\u001b[49m\u001b[43m,\u001b[49m\u001b[43m \u001b[49m\u001b[38;5;28;43mself\u001b[39;49m\u001b[38;5;241;43m.\u001b[39;49m\u001b[43mdepth\u001b[49m\u001b[43m)\u001b[49m\n\u001b[1;32m    107\u001b[0m     logging\u001b[38;5;241m.\u001b[39mdebug(\u001b[38;5;28mself\u001b[39m\u001b[38;5;241m.\u001b[39mtree)\n",
      "File \u001b[0;32m~/uma-random-forest/src/tree.py:201\u001b[0m, in \u001b[0;36mDecisionTreeClassifier.build_node\u001b[0;34m(self, data, classes, depth)\u001b[0m\n\u001b[1;32m    199\u001b[0m     child_classes \u001b[38;5;241m=\u001b[39m classes[indeces]\n\u001b[1;32m    200\u001b[0m     logging\u001b[38;5;241m.\u001b[39mdebug(\u001b[38;5;124mf\u001b[39m\u001b[38;5;124m\"\u001b[39m\u001b[38;5;124mChild classes: \u001b[39m\u001b[38;5;132;01m{\u001b[39;00mchild_classes\u001b[38;5;132;01m}\u001b[39;00m\u001b[38;5;124m\"\u001b[39m)\n\u001b[0;32m--> 201\u001b[0m     children_nodes\u001b[38;5;241m.\u001b[39mappend(\u001b[38;5;28;43mself\u001b[39;49m\u001b[38;5;241;43m.\u001b[39;49m\u001b[43mbuild_node\u001b[49m\u001b[43m(\u001b[49m\u001b[43mchild_data\u001b[49m\u001b[43m,\u001b[49m\u001b[43m \u001b[49m\u001b[43mchild_classes\u001b[49m\u001b[43m,\u001b[49m\u001b[43m \u001b[49m\u001b[43mdepth\u001b[49m\u001b[43m \u001b[49m\u001b[38;5;241;43m+\u001b[39;49m\u001b[43m \u001b[49m\u001b[38;5;241;43m1\u001b[39;49m\u001b[43m)\u001b[49m)\n\u001b[1;32m    203\u001b[0m \u001b[38;5;28;01mreturn\u001b[39;00m Node(\n\u001b[1;32m    204\u001b[0m     split_feature,\n\u001b[1;32m    205\u001b[0m     split_val,\n\u001b[0;32m   (...)\u001b[0m\n\u001b[1;32m    208\u001b[0m     children_nodes[\u001b[38;5;241m1\u001b[39m],\n\u001b[1;32m    209\u001b[0m )\n",
      "File \u001b[0;32m~/uma-random-forest/src/tree.py:186\u001b[0m, in \u001b[0;36mDecisionTreeClassifier.build_node\u001b[0;34m(self, data, classes, depth)\u001b[0m\n\u001b[1;32m    183\u001b[0m     logging\u001b[38;5;241m.\u001b[39mdebug(\u001b[38;5;124m\"\u001b[39m\u001b[38;5;124mLeaf - returning: \u001b[39m\u001b[38;5;124m\"\u001b[39m \u001b[38;5;241m+\u001b[39m \u001b[38;5;28mstr\u001b[39m(val))\n\u001b[1;32m    184\u001b[0m     \u001b[38;5;28;01mreturn\u001b[39;00m Node(\u001b[38;5;28;01mNone\u001b[39;00m, \u001b[38;5;28;01mNone\u001b[39;00m, depth, val\u001b[38;5;241m=\u001b[39mval)\n\u001b[0;32m--> 186\u001b[0m split_feature, split_val \u001b[38;5;241m=\u001b[39m \u001b[38;5;28;43mself\u001b[39;49m\u001b[38;5;241;43m.\u001b[39;49m\u001b[43mget_best_split\u001b[49m\u001b[43m(\u001b[49m\u001b[43mdata\u001b[49m\u001b[43m,\u001b[49m\u001b[43m \u001b[49m\u001b[43mclasses\u001b[49m\u001b[43m)\u001b[49m\n\u001b[1;32m    187\u001b[0m indices_a \u001b[38;5;241m=\u001b[39m data[:, split_feature] \u001b[38;5;241m<\u001b[39m\u001b[38;5;241m=\u001b[39m split_val\n\u001b[1;32m    188\u001b[0m indices_b \u001b[38;5;241m=\u001b[39m data[:, split_feature] \u001b[38;5;241m>\u001b[39m split_val\n",
      "File \u001b[0;32m~/uma-random-forest/src/tree.py:222\u001b[0m, in \u001b[0;36mRandomizedDecisionTreeClassifier.get_best_split\u001b[0;34m(self, X, y)\u001b[0m\n\u001b[1;32m    220\u001b[0m X_subset \u001b[38;5;241m=\u001b[39m X[:, \u001b[38;5;28mself\u001b[39m\u001b[38;5;241m.\u001b[39mfeature_indices_]\n\u001b[1;32m    221\u001b[0m logging\u001b[38;5;241m.\u001b[39mdebug(\u001b[38;5;124mf\u001b[39m\u001b[38;5;124m\"\u001b[39m\u001b[38;5;124mX_subset: \u001b[39m\u001b[38;5;132;01m{\u001b[39;00mX_subset\u001b[38;5;132;01m}\u001b[39;00m\u001b[38;5;124m\"\u001b[39m)\n\u001b[0;32m--> 222\u001b[0m split_feature, split_val \u001b[38;5;241m=\u001b[39m \u001b[38;5;28;43msuper\u001b[39;49m\u001b[43m(\u001b[49m\u001b[43m)\u001b[49m\u001b[38;5;241;43m.\u001b[39;49m\u001b[43mget_best_split\u001b[49m\u001b[43m(\u001b[49m\u001b[43mX_subset\u001b[49m\u001b[43m,\u001b[49m\u001b[43m \u001b[49m\u001b[43my\u001b[49m\u001b[43m)\u001b[49m\n\u001b[1;32m    223\u001b[0m \u001b[38;5;28;01mreturn\u001b[39;00m \u001b[38;5;28mself\u001b[39m\u001b[38;5;241m.\u001b[39mfeature_indices_[split_feature], split_val\n",
      "File \u001b[0;32m~/uma-random-forest/src/tree.py:167\u001b[0m, in \u001b[0;36mDecisionTreeClassifier.get_best_split\u001b[0;34m(self, X, y)\u001b[0m\n\u001b[1;32m    165\u001b[0m max_information_gain, max_feature, best_split_val \u001b[38;5;241m=\u001b[39m \u001b[38;5;241m0\u001b[39m, \u001b[38;5;28;01mNone\u001b[39;00m, \u001b[38;5;28;01mNone\u001b[39;00m\n\u001b[1;32m    166\u001b[0m \u001b[38;5;28;01mfor\u001b[39;00m feature \u001b[38;5;129;01min\u001b[39;00m \u001b[38;5;28mrange\u001b[39m(X\u001b[38;5;241m.\u001b[39mshape[\u001b[38;5;241m1\u001b[39m]):\n\u001b[0;32m--> 167\u001b[0m     split_val, information_gain \u001b[38;5;241m=\u001b[39m \u001b[38;5;28;43mself\u001b[39;49m\u001b[38;5;241;43m.\u001b[39;49m\u001b[43mget_best_feature_split\u001b[49m\u001b[43m(\u001b[49m\u001b[43mX\u001b[49m\u001b[43m[\u001b[49m\u001b[43m:\u001b[49m\u001b[43m,\u001b[49m\u001b[43m \u001b[49m\u001b[43mfeature\u001b[49m\u001b[43m]\u001b[49m\u001b[43m,\u001b[49m\u001b[43m \u001b[49m\u001b[43my\u001b[49m\u001b[43m)\u001b[49m\n\u001b[1;32m    168\u001b[0m     logging\u001b[38;5;241m.\u001b[39mdebug(\u001b[38;5;124mf\u001b[39m\u001b[38;5;124m\"\u001b[39m\u001b[38;5;124mfeature \u001b[39m\u001b[38;5;132;01m{\u001b[39;00mfeature\u001b[38;5;132;01m}\u001b[39;00m\u001b[38;5;124m Information gain: \u001b[39m\u001b[38;5;132;01m{\u001b[39;00minformation_gain\u001b[38;5;132;01m}\u001b[39;00m\u001b[38;5;124m\"\u001b[39m)\n\u001b[1;32m    170\u001b[0m     \u001b[38;5;28;01mif\u001b[39;00m information_gain \u001b[38;5;241m>\u001b[39m\u001b[38;5;241m=\u001b[39m max_information_gain:\n",
      "File \u001b[0;32m~/uma-random-forest/src/tree.py:155\u001b[0m, in \u001b[0;36mDecisionTreeClassifier.get_best_feature_split\u001b[0;34m(self, feature_values, classes)\u001b[0m\n\u001b[1;32m    152\u001b[0m group_classes \u001b[38;5;241m=\u001b[39m Group(classes)\n\u001b[1;32m    154\u001b[0m \u001b[38;5;28;01mfor\u001b[39;00m split_val \u001b[38;5;129;01min\u001b[39;00m split_values:\n\u001b[0;32m--> 155\u001b[0m     group_a \u001b[38;5;241m=\u001b[39m \u001b[43mGroup\u001b[49m\u001b[43m(\u001b[49m\u001b[43mclasses\u001b[49m\u001b[43m[\u001b[49m\u001b[43mfeature_values\u001b[49m\u001b[43m \u001b[49m\u001b[38;5;241;43m<\u001b[39;49m\u001b[38;5;241;43m=\u001b[39;49m\u001b[43m \u001b[49m\u001b[43msplit_val\u001b[49m\u001b[43m]\u001b[49m\u001b[43m)\u001b[49m\n\u001b[1;32m    156\u001b[0m     group_b \u001b[38;5;241m=\u001b[39m Group(classes[feature_values \u001b[38;5;241m>\u001b[39m split_val])\n\u001b[1;32m    157\u001b[0m     information_gain \u001b[38;5;241m=\u001b[39m DecisionTreeClassifier\u001b[38;5;241m.\u001b[39mget_information_gain(group_classes, group_a, group_b)\n",
      "File \u001b[0;32m~/uma-random-forest/src/tree.py:20\u001b[0m, in \u001b[0;36mGroup.__init__\u001b[0;34m(self, group_classes)\u001b[0m\n\u001b[1;32m     12\u001b[0m \u001b[38;5;250m\u001b[39m\u001b[38;5;124;03m\"\"\"Class representing group of classes in split\u001b[39;00m\n\u001b[1;32m     13\u001b[0m \n\u001b[1;32m     14\u001b[0m \u001b[38;5;124;03mParameters\u001b[39;00m\n\u001b[0;32m   (...)\u001b[0m\n\u001b[1;32m     17\u001b[0m \u001b[38;5;124;03m    Array of classes in the group\u001b[39;00m\n\u001b[1;32m     18\u001b[0m \u001b[38;5;124;03m\"\"\"\u001b[39;00m\n\u001b[1;32m     19\u001b[0m \u001b[38;5;28mself\u001b[39m\u001b[38;5;241m.\u001b[39mgroup_classes \u001b[38;5;241m=\u001b[39m group_classes\n\u001b[0;32m---> 20\u001b[0m \u001b[38;5;28mself\u001b[39m\u001b[38;5;241m.\u001b[39mentropy \u001b[38;5;241m=\u001b[39m \u001b[38;5;28;43mself\u001b[39;49m\u001b[38;5;241;43m.\u001b[39;49m\u001b[43mgroup_entropy\u001b[49m\u001b[43m(\u001b[49m\u001b[43m)\u001b[49m\n\u001b[1;32m     21\u001b[0m logging\u001b[38;5;241m.\u001b[39mdebug(\u001b[38;5;124mf\u001b[39m\u001b[38;5;124m\"\u001b[39m\u001b[38;5;124mGroup created, entropy: \u001b[39m\u001b[38;5;132;01m{\u001b[39;00m\u001b[38;5;28mself\u001b[39m\u001b[38;5;241m.\u001b[39mentropy\u001b[38;5;132;01m}\u001b[39;00m\u001b[38;5;124m\"\u001b[39m)\n",
      "File \u001b[0;32m~/uma-random-forest/src/tree.py:30\u001b[0m, in \u001b[0;36mGroup.group_entropy\u001b[0;34m(self)\u001b[0m\n\u001b[1;32m     29\u001b[0m \u001b[38;5;28;01mdef\u001b[39;00m \u001b[38;5;21mgroup_entropy\u001b[39m(\u001b[38;5;28mself\u001b[39m) \u001b[38;5;241m-\u001b[39m\u001b[38;5;241m>\u001b[39m \u001b[38;5;28mfloat\u001b[39m:\n\u001b[0;32m---> 30\u001b[0m     class_counts \u001b[38;5;241m=\u001b[39m \u001b[43mCounter\u001b[49m\u001b[43m(\u001b[49m\u001b[38;5;28;43mself\u001b[39;49m\u001b[38;5;241;43m.\u001b[39;49m\u001b[43mgroup_classes\u001b[49m\u001b[43m)\u001b[49m\n\u001b[1;32m     31\u001b[0m     total_count \u001b[38;5;241m=\u001b[39m \u001b[38;5;28mlen\u001b[39m(\u001b[38;5;28mself\u001b[39m\u001b[38;5;241m.\u001b[39mgroup_classes)\n\u001b[1;32m     32\u001b[0m     entropy \u001b[38;5;241m=\u001b[39m \u001b[38;5;28msum\u001b[39m(entropy_func(count, total_count) \u001b[38;5;28;01mfor\u001b[39;00m count \u001b[38;5;129;01min\u001b[39;00m class_counts\u001b[38;5;241m.\u001b[39mvalues())\n",
      "File \u001b[0;32m~/miniconda3/lib/python3.12/collections/__init__.py:607\u001b[0m, in \u001b[0;36mCounter.__init__\u001b[0;34m(self, iterable, **kwds)\u001b[0m\n\u001b[1;32m    596\u001b[0m \u001b[38;5;250m\u001b[39m\u001b[38;5;124;03m'''Create a new, empty Counter object.  And if given, count elements\u001b[39;00m\n\u001b[1;32m    597\u001b[0m \u001b[38;5;124;03mfrom an input iterable.  Or, initialize the count from another mapping\u001b[39;00m\n\u001b[1;32m    598\u001b[0m \u001b[38;5;124;03mof elements to their counts.\u001b[39;00m\n\u001b[0;32m   (...)\u001b[0m\n\u001b[1;32m    604\u001b[0m \n\u001b[1;32m    605\u001b[0m \u001b[38;5;124;03m'''\u001b[39;00m\n\u001b[1;32m    606\u001b[0m \u001b[38;5;28msuper\u001b[39m()\u001b[38;5;241m.\u001b[39m\u001b[38;5;21m__init__\u001b[39m()\n\u001b[0;32m--> 607\u001b[0m \u001b[38;5;28;43mself\u001b[39;49m\u001b[38;5;241;43m.\u001b[39;49m\u001b[43mupdate\u001b[49m\u001b[43m(\u001b[49m\u001b[43miterable\u001b[49m\u001b[43m,\u001b[49m\u001b[43m \u001b[49m\u001b[38;5;241;43m*\u001b[39;49m\u001b[38;5;241;43m*\u001b[39;49m\u001b[43mkwds\u001b[49m\u001b[43m)\u001b[49m\n",
      "File \u001b[0;32m~/miniconda3/lib/python3.12/collections/__init__.py:698\u001b[0m, in \u001b[0;36mCounter.update\u001b[0;34m(self, iterable, **kwds)\u001b[0m\n\u001b[1;32m    696\u001b[0m             \u001b[38;5;28msuper\u001b[39m()\u001b[38;5;241m.\u001b[39mupdate(iterable)\n\u001b[1;32m    697\u001b[0m     \u001b[38;5;28;01melse\u001b[39;00m:\n\u001b[0;32m--> 698\u001b[0m         \u001b[43m_count_elements\u001b[49m\u001b[43m(\u001b[49m\u001b[38;5;28;43mself\u001b[39;49m\u001b[43m,\u001b[49m\u001b[43m \u001b[49m\u001b[43miterable\u001b[49m\u001b[43m)\u001b[49m\n\u001b[1;32m    699\u001b[0m \u001b[38;5;28;01mif\u001b[39;00m kwds:\n\u001b[1;32m    700\u001b[0m     \u001b[38;5;28mself\u001b[39m\u001b[38;5;241m.\u001b[39mupdate(kwds)\n",
      "\u001b[0;31mKeyboardInterrupt\u001b[0m: "
     ]
    }
   ],
   "source": [
    "\n",
    "path = \"../out/airline_cs/random_forestt_classifier.csv\"\n",
    "n_calls = 1\n",
    "time_start = time.time()\n",
    "best_params, score, all_results = grid_search(\n",
    "    params_matrix, RandomForestClassifier, X_train, X_val, y_train, y_val, n_calls\n",
    ")\n",
    "print(f\"Execution time: {time.time() - time_start}\")\n",
    "print(f\"Best params: {best_params}\")\n",
    "print(f\"Best score: {score}\")\n",
    "print(f\"All rEsults: {all_results}\")"
   ]
  },
  {
   "cell_type": "code",
   "execution_count": null,
   "metadata": {},
   "outputs": [],
   "source": [
    "n_calls = 1\n",
    "time_start = time.time()\n",
    "\n",
    "\n",
    "best_params, score, all_results = grid_search(\n",
    "    params_matrix, RandomForestClassifier, X_train, X_val, y_train, y_val, n_calls\n",
    ")\n",
    "print(f\"Execution time: {time.time() - time_start}\")\n",
    "print(f\"Best params: {best_params}\")\n",
    "print(f\"Best score: {score}\")\n",
    "print(f\"All rEsults: {all_results}\")"
   ]
  }
 ],
 "metadata": {
  "kernelspec": {
   "display_name": ".venv",
   "language": "python",
   "name": "python3"
  },
  "language_info": {
   "codemirror_mode": {
    "name": "ipython",
    "version": 3
   },
   "file_extension": ".py",
   "mimetype": "text/x-python",
   "name": "python",
   "nbconvert_exporter": "python",
   "pygments_lexer": "ipython3",
   "version": "3.12.3"
  }
 },
 "nbformat": 4,
 "nbformat_minor": 2
}
