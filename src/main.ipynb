{
 "cells": [
  {
   "cell_type": "code",
   "execution_count": 8,
   "metadata": {},
   "outputs": [],
   "source": [
    "from datasets.mushrooms import MushroomDataset\n",
    "from tree import RandomizedDecisionTreeClassifier, DecisionTreeClassifier\n",
    "import time\n",
    "import math\n",
    "from sklearn.metrics import confusion_matrix, accuracy_score, ConfusionMatrixDisplay\n"
   ]
  },
  {
   "cell_type": "markdown",
   "metadata": {},
   "source": [
    "# Load dataset"
   ]
  },
  {
   "cell_type": "code",
   "execution_count": 2,
   "metadata": {},
   "outputs": [
    {
     "name": "stdout",
     "output_type": "stream",
     "text": [
      "6499\n",
      "(6499, 22)\n",
      "6499\n",
      "(6499,)\n"
     ]
    }
   ],
   "source": [
    "\n",
    "path = \"/home/user/uma-random-forest/data/mushroom/agaricus-lepiota.data\"\n",
    "dataset = MushroomDataset(path=path)\n",
    "dataset.clean()\n",
    "X_train, X_val, y_train, y_val = dataset.split(test_size=0.2, random_state=42)\n",
    "\n",
    "print(len(X_train))\n",
    "print(X_train.shape)\n",
    "print(len(y_train))\n",
    "print(y_train.shape)"
   ]
  },
  {
   "cell_type": "markdown",
   "metadata": {},
   "source": [
    "# DecisionTreeClassifier"
   ]
  },
  {
   "cell_type": "code",
   "execution_count": 3,
   "metadata": {},
   "outputs": [
    {
     "name": "stderr",
     "output_type": "stream",
     "text": [
      "INFO:root:DecisionTreeClassifier(max_depth=7) created\n",
      "INFO:root:Node(split_feature=None, split_val=None, depth=7) created\n",
      "INFO:root:Node(split_feature=None, split_val=None, depth=7) created\n",
      "INFO:root:Node(split_feature=8, split_val=2.0, depth=6) created\n",
      "INFO:root:Node(split_feature=None, split_val=None, depth=6) created\n",
      "INFO:root:Node(split_feature=0, split_val=1.25, depth=5) created\n",
      "INFO:root:Node(split_feature=None, split_val=None, depth=5) created\n",
      "INFO:root:Node(split_feature=20, split_val=1.25, depth=4) created\n",
      "INFO:root:Node(split_feature=None, split_val=None, depth=4) created\n",
      "INFO:root:Node(split_feature=10, split_val=1.25, depth=3) created\n",
      "INFO:root:Node(split_feature=None, split_val=None, depth=3) created\n",
      "INFO:root:Node(split_feature=21, split_val=1.0, depth=2) created\n",
      "INFO:root:Node(split_feature=None, split_val=None, depth=3) created\n",
      "INFO:root:Node(split_feature=None, split_val=None, depth=5) created\n",
      "INFO:root:Node(split_feature=None, split_val=None, depth=6) created\n",
      "INFO:root:Node(split_feature=None, split_val=None, depth=6) created\n",
      "INFO:root:Node(split_feature=20, split_val=4.0, depth=5) created\n",
      "INFO:root:Node(split_feature=21, split_val=2.0, depth=4) created\n",
      "INFO:root:Node(split_feature=None, split_val=None, depth=5) created\n",
      "INFO:root:Node(split_feature=None, split_val=None, depth=6) created\n",
      "INFO:root:Node(split_feature=None, split_val=None, depth=6) created\n",
      "INFO:root:Node(split_feature=20, split_val=1.25, depth=5) created\n",
      "INFO:root:Node(split_feature=12, split_val=1.75, depth=4) created\n",
      "INFO:root:Node(split_feature=10, split_val=2.25, depth=3) created\n",
      "INFO:root:Node(split_feature=19, split_val=3.0, depth=2) created\n",
      "INFO:root:Node(split_feature=4, split_val=1.0, depth=1) created\n",
      "INFO:root:Node(split_feature=None, split_val=None, depth=1) created\n",
      "INFO:root:Node(split_feature=4, split_val=3.0, depth=0) created\n"
     ]
    },
    {
     "name": "stdout",
     "output_type": "stream",
     "text": [
      "Time: 0.6187939s\n"
     ]
    }
   ],
   "source": [
    "dtc = DecisionTreeClassifier(7)\n",
    "\n",
    "start = time.process_time()\n",
    "\n",
    "dtc.fit(X_train, y_train)\n",
    "\n",
    "print(f\"Time: {time.process_time() - start}s\")\n",
    "\n",
    "y_preds = dtc.predict(X_val)"
   ]
  },
  {
   "cell_type": "code",
   "execution_count": 9,
   "metadata": {},
   "outputs": [
    {
     "name": "stdout",
     "output_type": "stream",
     "text": [
      "Num of test samples: 1625\n",
      "Accuracy: 0.9870769230769231\n"
     ]
    },
    {
     "data": {
      "text/plain": [
       "<sklearn.metrics._plot.confusion_matrix.ConfusionMatrixDisplay at 0x7f605bd5bef0>"
      ]
     },
     "execution_count": 9,
     "metadata": {},
     "output_type": "execute_result"
    },
    {
     "data": {
      "image/png": "[encoded data removed]",
      "text/plain": [
       "<Figure size 640x480 with 2 Axes>"
      ]
     },
     "metadata": {},
     "output_type": "display_data"
    }
   ],
   "source": [
    "accuracy = accuracy_score(y_val, y_preds)\n",
    "conf_matix = ConfusionMatrixDisplay(confusion_matrix(y_val, y_preds), display_labels=dtc.classes_)\n",
    "\n",
    "print(\"Num of test samples: \" + str(len(X_val)))\n",
    "print(f\"Accuracy: {accuracy}\")\n",
    "conf_matix.plot()"
   ]
  },
  {
   "cell_type": "code",
   "execution_count": 11,
   "metadata": {},
   "outputs": [
    {
     "name": "stderr",
     "output_type": "stream",
     "text": [
      "INFO:root:DecisionTreeClassifier(max_depth=3) created\n",
      "INFO:root:Node(split_feature=None, split_val=None, depth=3) created\n",
      "INFO:root:Node(split_feature=None, split_val=None, depth=3) created\n",
      "INFO:root:Node(split_feature=21, split_val=1.0, depth=2) created\n",
      "INFO:root:Node(split_feature=None, split_val=None, depth=2) created\n",
      "INFO:root:Node(split_feature=2, split_val=4.0, depth=1) created\n",
      "INFO:root:Node(split_feature=None, split_val=None, depth=3) created\n",
      "INFO:root:Node(split_feature=None, split_val=None, depth=3) created\n",
      "INFO:root:Node(split_feature=11, split_val=1.0, depth=2) created\n",
      "INFO:root:Node(split_feature=None, split_val=None, depth=2) created\n",
      "INFO:root:Node(split_feature=4, split_val=4.25, depth=1) created\n",
      "INFO:root:Node(split_feature=19, split_val=2.0, depth=0) created\n"
     ]
    },
    {
     "name": "stdout",
     "output_type": "stream",
     "text": [
      "Time: 0.16895719999999947s\n"
     ]
    }
   ],
   "source": [
    "n_features = round(math.sqrt(X_train.shape[1]))\n",
    "rdtc = RandomizedDecisionTreeClassifier(3, max_features=n_features)\n",
    "\n",
    "start = time.process_time()\n",
    "\n",
    "rdtc.fit(X_train, y_train)\n",
    "\n",
    "print(f\"Time: {time.process_time() - start}s\")\n",
    "\n",
    "y_preds = rdtc.predict(X_val)"
   ]
  },
  {
   "cell_type": "code",
   "execution_count": 13,
   "metadata": {},
   "outputs": [
    {
     "name": "stdout",
     "output_type": "stream",
     "text": [
      "Num of test samples: 1625\n",
      "Accuracy: 0.8609230769230769\n"
     ]
    },
    {
     "data": {
      "text/plain": [
       "<sklearn.metrics._plot.confusion_matrix.ConfusionMatrixDisplay at 0x7f60598c29c0>"
      ]
     },
     "execution_count": 13,
     "metadata": {},
     "output_type": "execute_result"
    },
    {
     "data": {
      "image/png": "[encoded data removed]",
      "text/plain": [
       "<Figure size 640x480 with 2 Axes>"
      ]
     },
     "metadata": {},
     "output_type": "display_data"
    }
   ],
   "source": [
    "accuracy = accuracy_score(y_val, y_preds)\n",
    "conf_matix = ConfusionMatrixDisplay(confusion_matrix(y_val, y_preds), display_labels=[\"not edible\", \"edible\"])\n",
    "\n",
    "print(\"Num of test samples: \" + str(len(X_val)))\n",
    "print(f\"Accuracy: {accuracy}\")\n",
    "conf_matix.plot()"
   ]
  },
  {
   "cell_type": "code",
   "execution_count": null,
   "metadata": {},
   "outputs": [],
   "source": []
  }
 ],
 "metadata": {
  "kernelspec": {
   "display_name": ".venv",
   "language": "python",
   "name": "python3"
  },
  "language_info": {
   "codemirror_mode": {
    "name": "ipython",
    "version": 3
   },
   "file_extension": ".py",
   "mimetype": "text/x-python",
   "name": "python",
   "nbconvert_exporter": "python",
   "pygments_lexer": "ipython3",
   "version": "3.12.1"
  }
 },
 "nbformat": 4,
 "nbformat_minor": 2
}
